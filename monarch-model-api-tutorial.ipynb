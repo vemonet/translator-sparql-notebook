{
 "cells": [
  {
   "cell_type": "markdown",
   "metadata": {},
   "source": [
    "##### Dipper model API tutorial\n",
    "\n",
    "A quick tutorial on working with the dipper models API.  As input we have a dataset with gene phenotype associations, as well as a reference, evidence code, and relation.\n",
    "\n",
    "Note to run this notebook you must first install dipper in your virtualenv:\n",
    "python3 setup.py install"
   ]
  },
  {
   "cell_type": "code",
   "execution_count": 24,
   "metadata": {},
   "outputs": [
    {
     "name": "stdout",
     "output_type": "stream",
     "text": [
      "@prefix ClinVarVariant: <http://www.ncbi.nlm.nih.gov/clinvar/variation/> .\n",
      "@prefix HP: <http://purl.obolibrary.org/obo/HP_> .\n",
      "@prefix OBO: <http://purl.obolibrary.org/obo/> .\n",
      "@prefix OIO: <http://www.geneontology.org/formats/oboInOwl#> .\n",
      "@prefix RO: <http://purl.obolibrary.org/obo/RO_> .\n",
      "@prefix SO: <http://purl.obolibrary.org/obo/SO_> .\n",
      "@prefix dbSNP: <http://www.ncbi.nlm.nih.gov/projects/SNP/snp_ref.cgi?rs=> .\n",
      "@prefix rdf: <http://www.w3.org/1999/02/22-rdf-syntax-ns#> .\n",
      "@prefix rdfs: <http://www.w3.org/2000/01/rdf-schema#> .\n",
      "@prefix xml: <http://www.w3.org/XML/1998/namespace> .\n",
      "@prefix xsd: <http://www.w3.org/2001/XMLSchema#> .\n",
      "\n",
      "<http://www.ncbi.nlm.nih.gov/clinvar/variation/254143> a OBO:SO_0000694 ;\n",
      "    rdfs:label \"C326F\" ;\n",
      "    OBO:RO_0002200 OBO:HP_0000748 ;\n",
      "    OIO:hasDbXref <http://www.ncbi.nlm.nih.gov/projects/SNP/snp_ref.cgi?rs=886037891> .\n",
      "\n",
      "\n"
     ]
    }
   ],
   "source": [
    "from dipper.graph.StreamedGraph import StreamedGraph\n",
    "from dipper.graph.RDFGraph import RDFGraph\n",
    "from dipper.models.Model import Model\n",
    "from dipper.models.assoc.Association import Assoc as Association\n",
    "import pandas as pd\n",
    "\n",
    "\n",
    "columns = ['variant', 'variant_label', 'variant_type',\n",
    "           'phenotype','relation', 'source', 'evidence', 'dbxref']\n",
    "\n",
    "data =  [\n",
    "    ['ClinVarVariant:254143', 'C326F', 'SO:0000694',\n",
    "     'HP:0000748','RO:0002200', 'PMID:12503095', 'ECO:0000220',\n",
    "     'dbSNP:886037891']\n",
    "]\n",
    "\n",
    "# Initialize graph, here we demo the RDFGraph\n",
    "# which is a subclass of RDFLib.graph()\n",
    "graph = RDFGraph()\n",
    "\n",
    "# Our model class writes to the graph and takes\n",
    "# a graph object as it's only instance variable\n",
    "model = Model(graph)\n",
    "\n",
    "# Create a pandas dataframe\n",
    "dataframe = pd.DataFrame(data=data, columns=columns)\n",
    "\n",
    "for index, row in dataframe.iterrows():\n",
    "    # Add the triple ClinVarVariant:254143 RO:0002200 HP:0000504\n",
    "    # RO:0002200 is the has_phenotype relation\n",
    "    # HP:0000748 is the phenotype 'Inappropriate laughter', haha\n",
    "    model.addTriple(row['variant'], row['relation'], row['phenotype'])\n",
    "    \n",
    "    # The addLabel method adds a label using the rdfs:label relation\n",
    "    model.addLabel(row['variant'], row['variant_label'])\n",
    "    \n",
    "    # addType makes the variant an individual of a class,\n",
    "    # in this case SO:0000694 'SNP'\n",
    "    model.addType(row['variant'], row['variant_type'])\n",
    "    \n",
    "    # addXref uses the relation OIO:hasDbXref\n",
    "    model.addXref(row['variant'], row['dbxref'])\n",
    "    \n",
    "    # Serialize the graph as turtle\n",
    "    print(graph.serialize(format='turtle').decode(\"utf-8\"))"
   ]
  },
  {
   "cell_type": "code",
   "execution_count": 25,
   "metadata": {},
   "outputs": [
    {
     "data": {
      "text/plain": [
       "{'assoc_id': None,\n",
       " 'definedby': 'test_source',\n",
       " 'description': None,\n",
       " 'evidence': ['ECO:0000220'],\n",
       " 'graph': <Graph identifier=Ne4f18e2b8550490ca9fc59667b4e8f68 (<class 'dipper.graph.RDFGraph.RDFGraph'>)>,\n",
       " 'model': <dipper.models.Model.Model at 0x7f5abc55b208>,\n",
       " 'obj': 'HP:0000748',\n",
       " 'provenance': [],\n",
       " 'rel': 'RO:0002200',\n",
       " 'score': None,\n",
       " 'score_type': None,\n",
       " 'score_unit': None,\n",
       " 'source': ['PMID:12503095'],\n",
       " 'sub': 'ClinVarVariant:254143'}"
      ]
     },
     "execution_count": 25,
     "metadata": {},
     "output_type": "execute_result"
    }
   ],
   "source": [
    "# Add source (publication) and evidence (ECO code) to association\n",
    "\n",
    "association = Association(graph, 'test_source',\n",
    "                          row['variant'], row['phenotype'],\n",
    "                          row['relation'])\n",
    "\n",
    "association.add_source(row['source'])\n",
    "association.add_evidence(row['evidence'])\n",
    "\n",
    "# Let's inspect the association object\n",
    "association.__dict__"
   ]
  },
  {
   "cell_type": "code",
   "execution_count": 27,
   "metadata": {},
   "outputs": [
    {
     "name": "stdout",
     "output_type": "stream",
     "text": [
      "@prefix ClinVarVariant: <http://www.ncbi.nlm.nih.gov/clinvar/variation/> .\n",
      "@prefix ECO: <http://purl.obolibrary.org/obo/ECO_> .\n",
      "@prefix HP: <http://purl.obolibrary.org/obo/HP_> .\n",
      "@prefix MONARCH: <https://monarchinitiative.org/MONARCH_> .\n",
      "@prefix OBAN: <http://purl.org/oban/> .\n",
      "@prefix OBO: <http://purl.obolibrary.org/obo/> .\n",
      "@prefix OIO: <http://www.geneontology.org/formats/oboInOwl#> .\n",
      "@prefix PMID: <http://www.ncbi.nlm.nih.gov/pubmed/> .\n",
      "@prefix RO: <http://purl.obolibrary.org/obo/RO_> .\n",
      "@prefix SO: <http://purl.obolibrary.org/obo/SO_> .\n",
      "@prefix dbSNP: <http://www.ncbi.nlm.nih.gov/projects/SNP/snp_ref.cgi?rs=> .\n",
      "@prefix dc: <http://purl.org/dc/elements/1.1/> .\n",
      "@prefix rdf: <http://www.w3.org/1999/02/22-rdf-syntax-ns#> .\n",
      "@prefix rdfs: <http://www.w3.org/2000/01/rdf-schema#> .\n",
      "@prefix xml: <http://www.w3.org/XML/1998/namespace> .\n",
      "@prefix xsd: <http://www.w3.org/2001/XMLSchema#> .\n",
      "\n",
      "<https://monarchinitiative.org/MONARCH_9bb0062d3cd43958a817322404a5f0dca52cb82e> a OBAN:association ;\n",
      "    OBO:RO_0002558 OBO:ECO_0000220 ;\n",
      "    dc:source <http://www.ncbi.nlm.nih.gov/pubmed/12503095> ;\n",
      "    OBAN:association_has_object OBO:HP_0000748 ;\n",
      "    OBAN:association_has_predicate OBO:RO_0002200 ;\n",
      "    OBAN:association_has_subject <http://www.ncbi.nlm.nih.gov/clinvar/variation/254143> .\n",
      "\n",
      "<http://www.ncbi.nlm.nih.gov/clinvar/variation/254143> a OBO:SO_0000694 ;\n",
      "    rdfs:label \"C326F\" ;\n",
      "    OBO:RO_0002200 OBO:HP_0000748 ;\n",
      "    OIO:hasDbXref <http://www.ncbi.nlm.nih.gov/projects/SNP/snp_ref.cgi?rs=886037891> .\n",
      "\n",
      "\n"
     ]
    }
   ],
   "source": [
    "# After the association object is composed, add it to the RDF graph\n",
    "# This generates an association ID by hashing its attributes (if not manually set),\n",
    "# and writes triples to the rdf graph, linking the subject, predicate, and object\n",
    "# using the OBAN reification model - https://github.com/EBISPOT/OBAN\n",
    "association.add_association_to_graph()\n",
    "\n",
    "# Serialize the graph. When using RDFGraphs, see\n",
    "# http://rdflib.readthedocs.io/en/stable/apidocs/rdflib.html#rdflib.graph.Graph.serialize\n",
    "# for a list of serialization options\n",
    "print(graph.serialize(format='turtle').decode(\"utf-8\"))"
   ]
  },
  {
   "cell_type": "code",
   "execution_count": 28,
   "metadata": {},
   "outputs": [
    {
     "name": "stdout",
     "output_type": "stream",
     "text": [
      "<?xml version=\"1.0\" encoding=\"utf-8\"?>\n",
      "<rdf:RDF\n",
      "  xmlns:OIO=\"http://www.geneontology.org/formats/oboInOwl#\"\n",
      "  xmlns:OBO=\"http://purl.obolibrary.org/obo/\"\n",
      "  xmlns:OBAN=\"http://purl.org/oban/\"\n",
      "  xmlns:rdf=\"http://www.w3.org/1999/02/22-rdf-syntax-ns#\"\n",
      "  xmlns:dc=\"http://purl.org/dc/elements/1.1/\"\n",
      "  xmlns:rdfs=\"http://www.w3.org/2000/01/rdf-schema#\"\n",
      ">\n",
      "  <OBAN:association rdf:about=\"https://monarchinitiative.org/MONARCH_9bb0062d3cd43958a817322404a5f0dca52cb82e\">\n",
      "    <OBAN:association_has_object rdf:resource=\"http://purl.obolibrary.org/obo/HP_0000748\"/>\n",
      "    <dc:source rdf:resource=\"http://www.ncbi.nlm.nih.gov/pubmed/12503095\"/>\n",
      "    <OBAN:association_has_predicate rdf:resource=\"http://purl.obolibrary.org/obo/RO_0002200\"/>\n",
      "    <OBO:RO_0002558 rdf:resource=\"http://purl.obolibrary.org/obo/ECO_0000220\"/>\n",
      "    <OBAN:association_has_subject>\n",
      "      <OBO:SO_0000694 rdf:about=\"http://www.ncbi.nlm.nih.gov/clinvar/variation/254143\">\n",
      "        <rdfs:label>C326F</rdfs:label>\n",
      "        <OIO:hasDbXref rdf:resource=\"http://www.ncbi.nlm.nih.gov/projects/SNP/snp_ref.cgi?rs=886037891\"/>\n",
      "        <OBO:RO_0002200 rdf:resource=\"http://purl.obolibrary.org/obo/HP_0000748\"/>\n",
      "      </OBO:SO_0000694>\n",
      "    </OBAN:association_has_subject>\n",
      "  </OBAN:association>\n",
      "</rdf:RDF>\n",
      "\n"
     ]
    }
   ],
   "source": [
    "# as xml\n",
    "print(graph.serialize(format='pretty-xml').decode(\"utf-8\"))"
   ]
  }
 ],
 "metadata": {
  "kernelspec": {
   "display_name": "Python 3",
   "language": "python",
   "name": "python3"
  },
  "language_info": {
   "codemirror_mode": {
    "name": "ipython",
    "version": 3
   },
   "file_extension": ".py",
   "mimetype": "text/x-python",
   "name": "python",
   "nbconvert_exporter": "python",
   "pygments_lexer": "ipython3",
   "version": "3.5.2"
  }
 },
 "nbformat": 4,
 "nbformat_minor": 1
}
