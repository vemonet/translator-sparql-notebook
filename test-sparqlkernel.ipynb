{
 "cells": [
  {
   "cell_type": "markdown",
   "metadata": {},
   "source": [
    "# What drugs/compounds target gene products of gene \"coagulation factor II, thrombin\"\n",
    "\n",
    "Built from https://github.com/paulovn/sparql-kernel/tree/master/examples"
   ]
  },
  {
   "cell_type": "code",
   "execution_count": null,
   "metadata": {},
   "outputs": [],
   "source": [
    "!pip install sparqlkernel\n",
    "!jupyter sparqlkernel install --user"
   ]
  },
  {
   "cell_type": "code",
   "execution_count": 1,
   "metadata": {},
   "outputs": [
    {
     "name": "stderr",
     "output_type": "stream",
     "text": [
      "UsageError: Line magic function `%endpoint` not found.\n"
     ]
    }
   ],
   "source": [
    "%endpoint http://graphdb.dumontierlab.com/repositories/ncats-red-kg\n",
    "%lang en\n",
    "\n",
    "# This is optional, it would increase the log level.\n",
    "# The default logfile (unless changed upon kernel installation) is [TMPDIR]/sparqlkernel.log, \n",
    "# where [TMPDIR] is the platform default temporal directory\n",
    "%log debug"
   ]
  },
  {
   "cell_type": "code",
   "execution_count": null,
   "metadata": {},
   "outputs": [],
   "source": [
    "%format json\n",
    "%display table \n",
    "\n",
    "PREFIX rdfs: <http://www.w3.org/2000/01/rdf-schema#>\n",
    "PREFIX bl: <http://w3id.org/biolink/vocab/>\n",
    "SELECT *\n",
    "{   ?gene a bl:Gene ;\n",
    "      bl:id ?geneId ; \n",
    "      bl:name ?geneLabel ;\n",
    "      bl:has_gene_product ?geneProduct .\n",
    "    ?geneProduct bl:name ?geneProductLabel .\n",
    "    \n",
    "    ?interaction ?p ?geneProduct .\n",
    "    ?interaction ?p ?drug .\n",
    "    ?drug a bl:ChemicalSubstance .\n",
    "    #?drug rdfs:label ?drugLabel .\n",
    "    #FILTER regex(str(?geneLabel), \"coagulation factor II, thrombin\") . \n",
    "} LIMIT 20"
   ]
  }
 ],
 "metadata": {
  "kernelspec": {
   "display_name": "Python 3",
   "language": "python",
   "name": "python3"
  },
  "language_info": {
   "codemirror_mode": {
    "name": "ipython",
    "version": 3
   },
   "file_extension": ".py",
   "mimetype": "text/x-python",
   "name": "python",
   "nbconvert_exporter": "python",
   "pygments_lexer": "ipython3",
   "version": "3.6.7"
  }
 },
 "nbformat": 4,
 "nbformat_minor": 2
}
