{
 "cells": [
  {
   "cell_type": "markdown",
   "metadata": {},
   "source": [
    "# What drugs/compounds target gene products of gene \"coagulation factor II, thrombin\"\n",
    "\n",
    "Built from https://github.com/paulovn/sparql-kernel/tree/master/examples"
   ]
  },
  {
   "cell_type": "code",
   "execution_count": 17,
   "metadata": {},
   "outputs": [
    {
     "data": {
      "text/html": [
       "<div class=\"krn-spql\"><div class=\"magic\">Endpoint set to: http://graphdb.dumontierlab.com/repositories/ncats-red-kg</div><div class=\"magic\">Label preferred languages: ['en']</div><div class=\"magic\">Logging set to DEBUG</div></div>"
      ],
      "text/plain": [
       "Endpoint set to: http://graphdb.dumontierlab.com/repositories/ncats-red-kg\n",
       "Label preferred languages: ['en']\n",
       "Logging set to DEBUG\n"
      ]
     },
     "metadata": {},
     "output_type": "display_data"
    }
   ],
   "source": [
    "%endpoint http://graphdb.dumontierlab.com/repositories/ncats-red-kg\n",
    "%lang en\n",
    "\n",
    "# This is optional, it would increase the log level.\n",
    "# The default logfile (unless changed upon kernel installation) is [TMPDIR]/sparqlkernel.log, \n",
    "# where [TMPDIR] is the platform default temporal directory\n",
    "%log debug"
   ]
  },
  {
   "cell_type": "code",
   "execution_count": 28,
   "metadata": {},
   "outputs": [
    {
     "data": {
      "text/html": [
       "<div class=\"krn-spql\"><div class=\"magic\">Return format: JSON</div><div class=\"magic\">Display: table</div></div>"
      ],
      "text/plain": [
       "Return format: JSON\n",
       "Display: table\n"
      ]
     },
     "metadata": {},
     "output_type": "display_data"
    },
    {
     "data": {
      "text/html": [
       "<div class=\"krn-spql\"><div class=\"krn-error\"><span class=\"title\">Error:</span> Query processing error: &lt;urlopen error [Errno -3] Temporary failure in name resolution&gt;</div></div>"
      ],
      "text/plain": [
       "Error: Query processing error: <urlopen error [Errno -3] Temporary failure in name resolution>"
      ]
     },
     "metadata": {},
     "output_type": "display_data"
    }
   ],
   "source": [
    "%format json\n",
    "%display table\n",
    "#%display raw\n",
    "\n",
    "PREFIX rdfs: <http://www.w3.org/2000/01/rdf-schema#>\n",
    "PREFIX bl: <http://w3id.org/biolink/vocab/>\n",
    "SELECT distinct ?geneId\n",
    "{\n",
    "  ?geneUri a bl:Gene ;\n",
    "    bl:id ?geneId ; \n",
    "    bl:name ?gene .\n",
    "} limit 100"
   ]
  },
  {
   "cell_type": "code",
   "execution_count": null,
   "metadata": {},
   "outputs": [],
   "source": []
  }
 ],
 "metadata": {
  "kernelspec": {
   "display_name": "SPARQL",
   "language": "sparql",
   "name": "sparql"
  },
  "language_info": {
   "codemirror_mode": {
    "name": "sparql"
   },
   "mimetype": "application/sparql-query",
   "name": "sparql",
   "pygments_lexer": "sparql-nb"
  }
 },
 "nbformat": 4,
 "nbformat_minor": 2
}
