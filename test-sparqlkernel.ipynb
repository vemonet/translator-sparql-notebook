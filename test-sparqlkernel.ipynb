{
 "cells": [
  {
   "cell_type": "markdown",
   "metadata": {},
   "source": [
    "# What drugs/compounds target gene products of gene \"coagulation factor II, thrombin\"\n",
    "\n",
    "Built from https://github.com/paulovn/sparql-kernel/tree/master/examples"
   ]
  },
  {
   "cell_type": "code",
   "execution_count": 50,
   "metadata": {},
   "outputs": [
    {
     "data": {
      "text/html": [
       "<div class=\"krn-spql\"><div class=\"magic\">Endpoint set to: http://dbpedia.org/sparql</div><div class=\"magic\">Label preferred languages: ['en']</div><div class=\"magic\">Logging set to DEBUG</div></div>"
      ],
      "text/plain": [
       "Endpoint set to: http://dbpedia.org/sparql\n",
       "Label preferred languages: ['en']\n",
       "Logging set to DEBUG\n"
      ]
     },
     "metadata": {},
     "output_type": "display_data"
    }
   ],
   "source": [
    "%endpoint http://dbpedia.org/sparql\n",
    "%lang en\n",
    "\n",
    "# This is optional, it would increase the log level.\n",
    "# The default logfile (unless changed upon kernel installation) is [TMPDIR]/sparqlkernel.log, \n",
    "# where [TMPDIR] is the platform default temporal directory\n",
    "%log debug"
   ]
  },
  {
   "cell_type": "code",
   "execution_count": 51,
   "metadata": {},
   "outputs": [
    {
     "data": {
      "text/html": [
       "<div class=\"krn-spql\"><div class=\"magic\">Return format: JSON</div><div class=\"magic\">Display: table</div></div>"
      ],
      "text/plain": [
       "Return format: JSON\n",
       "Display: table\n"
      ]
     },
     "metadata": {},
     "output_type": "display_data"
    },
    {
     "data": {
      "text/html": [
       "<div class=\"krn-spql\"><table><tr class=hdr><th>person</th>\n",
       "<th>name</th></tr><tr class=odd><td class=val><a href=\"http://dbpedia.org/resource/Vincent_van_Gogh\" target=\"_other\">http://dbpedia.org/resource/Vincent_van_Gogh</a></td>\n",
       "<td class=val>Vincent van Gogh</td></tr><tr class=even><td class=val><a href=\"http://dbpedia.org/resource/Johanna_van_Gogh-Bonger\" target=\"_other\">http://dbpedia.org/resource/Johanna_van_Gogh-Bonger</a></td>\n",
       "<td class=val>Johanna van Gogh-Bonger</td></tr><tr class=odd><td class=val><a href=\"http://dbpedia.org/resource/Theo_van_Gogh_(art_dealer)\" target=\"_other\">http://dbpedia.org/resource/Theo_van_Gogh_(art_dealer)</a></td>\n",
       "<td class=val>Theo van Gogh (art dealer)</td></tr><tr class=even><td class=val><a href=\"http://dbpedia.org/resource/Natalie_van_Gogh\" target=\"_other\">http://dbpedia.org/resource/Natalie_van_Gogh</a></td>\n",
       "<td class=val>Natalie van Gogh</td></tr><tr class=odd><td class=val><a href=\"http://dbpedia.org/resource/Niels_van_Gogh\" target=\"_other\">http://dbpedia.org/resource/Niels_van_Gogh</a></td>\n",
       "<td class=val>Niels van Gogh</td></tr><tr class=even><td class=val><a href=\"http://dbpedia.org/resource/Wil_van_Gogh\" target=\"_other\">http://dbpedia.org/resource/Wil_van_Gogh</a></td>\n",
       "<td class=val>Wil van Gogh</td></tr><tr class=odd><td class=val><a href=\"http://dbpedia.org/resource/Theo_van_Gogh_(film_director)\" target=\"_other\">http://dbpedia.org/resource/Theo_van_Gogh_(film_director)</a></td>\n",
       "<td class=val>Theo van Gogh (film director)</td></tr><tr class=even><td class=val><a href=\"http://dbpedia.org/resource/Lothar_van_Gogh\" target=\"_other\">http://dbpedia.org/resource/Lothar_van_Gogh</a></td>\n",
       "<td class=val>Lothar van Gogh</td></tr></table><div class=\"tinfo\">Total: 8, Shown: 8</div></div>"
      ]
     },
     "metadata": {},
     "output_type": "display_data"
    }
   ],
   "source": [
    "%format JSON\n",
    "%display table\n",
    "\n",
    "PREFIX rdfs: <http://www.w3.org/2000/01/rdf-schema#>\n",
    "PREFIX foaf:  <http://xmlns.com/foaf/0.1/>\n",
    "SELECT ?person ?name\n",
    "WHERE {\n",
    "    ?person a foaf:Person .\n",
    "    ?person rdfs:label ?name\n",
    "    FILTER regex(?name,\"van gogh\",\"i\")\n",
    "    FILTER langMatches(lang(?name),\"en\")\n",
    "} LIMIT 20"
   ]
  },
  {
   "cell_type": "code",
   "execution_count": null,
   "metadata": {},
   "outputs": [],
   "source": []
  },
  {
   "cell_type": "code",
   "execution_count": null,
   "metadata": {},
   "outputs": [],
   "source": []
  }
 ],
 "metadata": {
  "kernelspec": {
   "display_name": "SPARQL",
   "language": "sparql",
   "name": "sparql"
  },
  "language_info": {
   "codemirror_mode": {
    "name": "sparql"
   },
   "mimetype": "application/sparql-query",
   "name": "sparql",
   "pygments_lexer": "sparql-nb"
  }
 },
 "nbformat": 4,
 "nbformat_minor": 2
}
