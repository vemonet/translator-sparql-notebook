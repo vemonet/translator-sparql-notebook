{
 "cells": [
  {
   "cell_type": "code",
   "execution_count": 4,
   "metadata": {},
   "outputs": [
    {
     "name": "stdout",
     "output_type": "stream",
     "text": [
      "Requirement already satisfied: SPARQLWrapper in /opt/conda/lib/python3.6/site-packages (1.8.2)\n",
      "Requirement already satisfied: pandas in /opt/conda/lib/python3.6/site-packages (0.23.4)\n",
      "Requirement already satisfied: rdflib>=4.0 in /opt/conda/lib/python3.6/site-packages (from SPARQLWrapper) (4.2.2)\n",
      "Requirement already satisfied: pytz>=2011k in /opt/conda/lib/python3.6/site-packages (from pandas) (2018.9)\n",
      "Requirement already satisfied: numpy>=1.9.0 in /opt/conda/lib/python3.6/site-packages (from pandas) (1.13.3)\n",
      "Requirement already satisfied: python-dateutil>=2.5.0 in /opt/conda/lib/python3.6/site-packages (from pandas) (2.8.0)\n",
      "Requirement already satisfied: isodate in /opt/conda/lib/python3.6/site-packages (from rdflib>=4.0->SPARQLWrapper) (0.6.0)\n",
      "Requirement already satisfied: pyparsing in /opt/conda/lib/python3.6/site-packages (from rdflib>=4.0->SPARQLWrapper) (2.3.1)\n",
      "Requirement already satisfied: six>=1.5 in /opt/conda/lib/python3.6/site-packages (from python-dateutil>=2.5.0->pandas) (1.12.0)\n",
      "Requirement already satisfied: sparqlkernel in /opt/conda/lib/python3.6/site-packages (1.2.0)\n",
      "Requirement already satisfied: notebook in /opt/conda/lib/python3.6/site-packages (from sparqlkernel) (5.7.2)\n",
      "Requirement already satisfied: ipykernel>=4.0 in /opt/conda/lib/python3.6/site-packages (from sparqlkernel) (5.1.0)\n",
      "Requirement already satisfied: setuptools in /opt/conda/lib/python3.6/site-packages (from sparqlkernel) (40.8.0)\n",
      "Requirement already satisfied: traitlets in /opt/conda/lib/python3.6/site-packages (from sparqlkernel) (4.3.2)\n",
      "Requirement already satisfied: rdflib in /opt/conda/lib/python3.6/site-packages (from sparqlkernel) (4.2.2)\n",
      "Requirement already satisfied: SPARQLWrapper in /opt/conda/lib/python3.6/site-packages (from sparqlkernel) (1.8.2)\n",
      "Requirement already satisfied: pygments in /opt/conda/lib/python3.6/site-packages (from sparqlkernel) (2.3.1)\n",
      "Requirement already satisfied: tornado>=4 in /opt/conda/lib/python3.6/site-packages (from notebook->sparqlkernel) (5.1.1)\n",
      "Requirement already satisfied: Send2Trash in /opt/conda/lib/python3.6/site-packages (from notebook->sparqlkernel) (1.5.0)\n",
      "Requirement already satisfied: jupyter-core>=4.4.0 in /opt/conda/lib/python3.6/site-packages (from notebook->sparqlkernel) (4.4.0)\n",
      "Requirement already satisfied: jinja2 in /opt/conda/lib/python3.6/site-packages (from notebook->sparqlkernel) (2.10)\n",
      "Requirement already satisfied: nbformat in /opt/conda/lib/python3.6/site-packages (from notebook->sparqlkernel) (4.4.0)\n",
      "Requirement already satisfied: terminado>=0.8.1 in /opt/conda/lib/python3.6/site-packages (from notebook->sparqlkernel) (0.8.1)\n",
      "Requirement already satisfied: pyzmq>=17 in /opt/conda/lib/python3.6/site-packages (from notebook->sparqlkernel) (18.0.0)\n",
      "Requirement already satisfied: ipython-genutils in /opt/conda/lib/python3.6/site-packages (from notebook->sparqlkernel) (0.2.0)\n",
      "Requirement already satisfied: prometheus-client in /opt/conda/lib/python3.6/site-packages (from notebook->sparqlkernel) (0.5.0)\n",
      "Requirement already satisfied: nbconvert in /opt/conda/lib/python3.6/site-packages (from notebook->sparqlkernel) (5.3.1)\n",
      "Requirement already satisfied: jupyter-client>=5.2.0 in /opt/conda/lib/python3.6/site-packages (from notebook->sparqlkernel) (5.2.4)\n",
      "Requirement already satisfied: ipython>=5.0.0 in /opt/conda/lib/python3.6/site-packages (from ipykernel>=4.0->sparqlkernel) (7.3.0)\n",
      "Requirement already satisfied: six in /opt/conda/lib/python3.6/site-packages (from traitlets->sparqlkernel) (1.12.0)\n",
      "Requirement already satisfied: decorator in /opt/conda/lib/python3.6/site-packages (from traitlets->sparqlkernel) (4.3.2)\n",
      "Requirement already satisfied: pyparsing in /opt/conda/lib/python3.6/site-packages (from rdflib->sparqlkernel) (2.3.1)\n",
      "Requirement already satisfied: isodate in /opt/conda/lib/python3.6/site-packages (from rdflib->sparqlkernel) (0.6.0)\n",
      "Requirement already satisfied: MarkupSafe>=0.23 in /opt/conda/lib/python3.6/site-packages (from jinja2->notebook->sparqlkernel) (1.1.0)\n",
      "Requirement already satisfied: jsonschema!=2.5.0,>=2.4 in /opt/conda/lib/python3.6/site-packages (from nbformat->notebook->sparqlkernel) (3.0.0a3)\n",
      "Requirement already satisfied: pandocfilters>=1.4.1 in /opt/conda/lib/python3.6/site-packages (from nbconvert->notebook->sparqlkernel) (1.4.2)\n",
      "Requirement already satisfied: testpath in /opt/conda/lib/python3.6/site-packages (from nbconvert->notebook->sparqlkernel) (0.4.2)\n",
      "Requirement already satisfied: bleach in /opt/conda/lib/python3.6/site-packages (from nbconvert->notebook->sparqlkernel) (3.1.0)\n",
      "Requirement already satisfied: entrypoints>=0.2.2 in /opt/conda/lib/python3.6/site-packages (from nbconvert->notebook->sparqlkernel) (0.3)\n",
      "Requirement already satisfied: mistune>=0.7.4 in /opt/conda/lib/python3.6/site-packages (from nbconvert->notebook->sparqlkernel) (0.8.4)\n",
      "Requirement already satisfied: python-dateutil>=2.1 in /opt/conda/lib/python3.6/site-packages (from jupyter-client>=5.2.0->notebook->sparqlkernel) (2.8.0)\n",
      "Requirement already satisfied: jedi>=0.10 in /opt/conda/lib/python3.6/site-packages (from ipython>=5.0.0->ipykernel>=4.0->sparqlkernel) (0.13.2)\n",
      "Requirement already satisfied: pickleshare in /opt/conda/lib/python3.6/site-packages (from ipython>=5.0.0->ipykernel>=4.0->sparqlkernel) (0.7.5)\n",
      "Requirement already satisfied: prompt_toolkit<2.1.0,>=2.0.0 in /opt/conda/lib/python3.6/site-packages (from ipython>=5.0.0->ipykernel>=4.0->sparqlkernel) (2.0.8)\n",
      "Requirement already satisfied: backcall in /opt/conda/lib/python3.6/site-packages (from ipython>=5.0.0->ipykernel>=4.0->sparqlkernel) (0.1.0)\n",
      "Requirement already satisfied: pexpect in /opt/conda/lib/python3.6/site-packages (from ipython>=5.0.0->ipykernel>=4.0->sparqlkernel) (4.6.0)\n",
      "Requirement already satisfied: attrs>=17.4.0 in /opt/conda/lib/python3.6/site-packages (from jsonschema!=2.5.0,>=2.4->nbformat->notebook->sparqlkernel) (18.2.0)\n",
      "Requirement already satisfied: pyrsistent>=0.14.0 in /opt/conda/lib/python3.6/site-packages (from jsonschema!=2.5.0,>=2.4->nbformat->notebook->sparqlkernel) (0.14.10)\n",
      "Requirement already satisfied: webencodings in /opt/conda/lib/python3.6/site-packages (from bleach->nbconvert->notebook->sparqlkernel) (0.5.1)\n",
      "Requirement already satisfied: parso>=0.3.0 in /opt/conda/lib/python3.6/site-packages (from jedi>=0.10->ipython>=5.0.0->ipykernel>=4.0->sparqlkernel) (0.3.4)\n",
      "Requirement already satisfied: wcwidth in /opt/conda/lib/python3.6/site-packages (from prompt_toolkit<2.1.0,>=2.0.0->ipython>=5.0.0->ipykernel>=4.0->sparqlkernel) (0.1.7)\n",
      "Requirement already satisfied: ptyprocess>=0.5 in /opt/conda/lib/python3.6/site-packages (from pexpect->ipython>=5.0.0->ipykernel>=4.0->sparqlkernel) (0.6.0)\n"
     ]
    }
   ],
   "source": [
    "!pip install SPARQLWrapper pandas\n",
    "!pip install sparqlkernel"
   ]
  },
  {
   "cell_type": "markdown",
   "metadata": {},
   "source": [
    "# Install SPARQLWrapper"
   ]
  },
  {
   "cell_type": "code",
   "execution_count": 5,
   "metadata": {},
   "outputs": [],
   "source": [
    "from SPARQLWrapper import SPARQLWrapper, JSON, XML, CSV, TSV\n",
    "import pandas as pd, io\n",
    "from IPython.core.display import display, HTML"
   ]
  },
  {
   "cell_type": "markdown",
   "metadata": {},
   "source": [
    "# Install SPARQL Kernel"
   ]
  },
  {
   "cell_type": "code",
   "execution_count": 6,
   "metadata": {},
   "outputs": [
    {
     "name": "stdout",
     "output_type": "stream",
     "text": [
      "[SparqlKernelInstall] Installing SPARQL kernel\n",
      "[SparqlKernelInstall] Installing kernel spec\n",
      "[SparqlKernelInstall] Removing existing kernelspec in /home/jovyan/.local/share/jupyter/kernels/sparql\n",
      "[SparqlKernelInstall] Installed kernelspec sparql in /home/jovyan/.local/share/jupyter/kernels/sparql\n",
      "[SparqlKernelInstall] Installed into /home/jovyan/.local/share/jupyter/kernels/sparql\n",
      "[SparqlKernelInstall] Installing CSS\n",
      "[SparqlKernelInstall] Installing CSS into /home/jovyan/.jupyter/custom\n"
     ]
    }
   ],
   "source": [
    "!jupyter sparqlkernel install --user"
   ]
  },
  {
   "cell_type": "code",
   "execution_count": null,
   "metadata": {},
   "outputs": [],
   "source": []
  }
 ],
 "metadata": {
  "kernelspec": {
   "display_name": "Python 3",
   "language": "python",
   "name": "python3"
  },
  "language_info": {
   "codemirror_mode": {
    "name": "ipython",
    "version": 3
   },
   "file_extension": ".py",
   "mimetype": "text/x-python",
   "name": "python",
   "nbconvert_exporter": "python",
   "pygments_lexer": "ipython3",
   "version": "3.6.7"
  }
 },
 "nbformat": 4,
 "nbformat_minor": 2
}
