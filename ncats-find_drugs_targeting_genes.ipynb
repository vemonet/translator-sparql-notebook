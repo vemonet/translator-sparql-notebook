{
 "cells": [
  {
   "cell_type": "markdown",
   "metadata": {},
   "source": [
    "# What *drugs/compounds* target gene products of gene \"coagulation factor II, thrombin\"?"
   ]
  },
  {
   "cell_type": "code",
   "execution_count": 63,
   "metadata": {},
   "outputs": [
    {
     "name": "stdout",
     "output_type": "stream",
     "text": [
      "Requirement already satisfied: SPARQLWrapper in /opt/conda/lib/python3.6/site-packages (1.8.2)\n",
      "Requirement already satisfied: pandas in /opt/conda/lib/python3.6/site-packages (0.23.4)\n",
      "Requirement already satisfied: rdflib>=4.0 in /opt/conda/lib/python3.6/site-packages (from SPARQLWrapper) (4.2.2)\n",
      "Requirement already satisfied: python-dateutil>=2.5.0 in /opt/conda/lib/python3.6/site-packages (from pandas) (2.8.0)\n",
      "Requirement already satisfied: numpy>=1.9.0 in /opt/conda/lib/python3.6/site-packages (from pandas) (1.13.3)\n",
      "Requirement already satisfied: pytz>=2011k in /opt/conda/lib/python3.6/site-packages (from pandas) (2018.9)\n",
      "Requirement already satisfied: isodate in /opt/conda/lib/python3.6/site-packages (from rdflib>=4.0->SPARQLWrapper) (0.6.0)\n",
      "Requirement already satisfied: pyparsing in /opt/conda/lib/python3.6/site-packages (from rdflib>=4.0->SPARQLWrapper) (2.3.1)\n",
      "Requirement already satisfied: six>=1.5 in /opt/conda/lib/python3.6/site-packages (from python-dateutil>=2.5.0->pandas) (1.12.0)\n"
     ]
    }
   ],
   "source": [
    "# TO REMOVE\n",
    "!pip install SPARQLWrapper pandas\n",
    "from SPARQLWrapper import SPARQLWrapper, JSON, XML, CSV, TSV\n",
    "import pandas as pd, io\n",
    "from pandas.io.json import json_normalize\n",
    "from IPython.core.display import display, HTML\n",
    "%matplotlib inline"
   ]
  },
  {
   "cell_type": "markdown",
   "metadata": {},
   "source": [
    "The NCATS Translator [Red team knowledge graph](http://graphdb.dumontierlab.com/repositories/ncats-red-kg) is used to answer the question.\n",
    "\n",
    "The Red team knowledge graph integrates the following datasets:\n",
    "* HGNC: genes\n",
    "* DrugBank: drugs, drug-protein and drug-drug interactions\n",
    "* PrePPI: protein-protein interactions\n",
    "* BioGRID: protein-protein interactions with evidences\n",
    "* WikiPathways: pathways, gene-gene interactions\n",
    "* DATE: link drugs to pathways\n",
    "* GOTE: link proteins to pathways\n",
    "\n",
    "The SPARQL queries used to transform the datasets to the [BioLink model](https://biolink.github.io/biolink-model/docs/) can be found [here](https://github.com/vemonet/data2services-insert/tree/master/insert-biolink)."
   ]
  },
  {
   "cell_type": "code",
   "execution_count": null,
   "metadata": {},
   "outputs": [],
   "source": [
    "sparql = SPARQLWrapper(\"http://graphdb.dumontierlab.com/repositories/ncats-red-kg\")\n",
    "sparql.setQuery(\"\"\"\n",
    "PREFIX rdfs: <http://www.w3.org/2000/01/rdf-schema#>\n",
    "PREFIX bl: <http://w3id.org/biolink/vocab/>\n",
    "SELECT distinct ?gene ?produceProtein ?affectedByDrug ?byRelation ?inInteraction ?inGraph\n",
    "{\n",
    "  ?geneUri a bl:Gene ;\n",
    "    bl:id ?geneId ; \n",
    "    bl:name ?gene ;\n",
    "    bl:has_gene_product ?geneProductUri .\n",
    "  OPTIONAL{ ?geneProductUri bl:name ?produceProtein . }\n",
    "  ?geneProductUri a bl:GeneProduct .\n",
    "  GRAPH ?inGraph {\n",
    "      ?inInteraction ?associationSubject ?geneProductUri ;\n",
    "       ?associationObject ?drugUri ;\n",
    "       bl:relation ?byRelation .\n",
    "   }\n",
    "  ?drugUri a bl:ChemicalSubstance .\n",
    "  OPTIONAL {?drugUri bl:name ?affectedByDrug .}\n",
    "} limit 100\n",
    "\"\"\")\n",
    "\n",
    "sparql.setReturnFormat(JSON)\n",
    "results = sparql.query().convert()\n",
    "\n",
    "#table = json_normalize(results[\"results\"][\"bindings\"])\n",
    "print(results)\n",
    "\n",
    "#for result in results[\"results\"][\"bindings\"]:\n",
    "#    print(result[\"gene\"][\"value\"])\n",
    "#df = pd.read_csv(io.BytesIO(results))\n",
    "#print(HTML(df.to_html()))\n",
    "#print(df.to_csv())"
   ]
  },
  {
   "cell_type": "code",
   "execution_count": null,
   "metadata": {},
   "outputs": [],
   "source": [
    "table.head()"
   ]
  },
  {
   "cell_type": "code",
   "execution_count": null,
   "metadata": {},
   "outputs": [],
   "source": [
    "table.columns"
   ]
  },
  {
   "cell_type": "code",
   "execution_count": null,
   "metadata": {},
   "outputs": [],
   "source": [
    "table.groupby('affectedByDrug.value').agg('count')#['affectedByDrug.type']"
   ]
  },
  {
   "cell_type": "code",
   "execution_count": null,
   "metadata": {},
   "outputs": [],
   "source": [
    "affectedbydrug = table.groupby('affectedByDrug.value').count()['affectedByDrug.type'].reset_index()#.plot()"
   ]
  },
  {
   "cell_type": "code",
   "execution_count": null,
   "metadata": {},
   "outputs": [],
   "source": [
    "import matplotlib.pyplot as plt"
   ]
  },
  {
   "cell_type": "code",
   "execution_count": null,
   "metadata": {},
   "outputs": [],
   "source": [
    "affectedbydrug"
   ]
  },
  {
   "cell_type": "code",
   "execution_count": null,
   "metadata": {},
   "outputs": [],
   "source": [
    "plt.scatter(affectedbydrug['affectedByDrug.value'], affectedbydrug['affectedByDrug.type'])"
   ]
  },
  {
   "cell_type": "code",
   "execution_count": null,
   "metadata": {},
   "outputs": [],
   "source": []
  }
 ],
 "metadata": {
  "kernelspec": {
   "display_name": "Python 3",
   "language": "python",
   "name": "python3"
  },
  "language_info": {
   "codemirror_mode": {
    "name": "ipython",
    "version": 3
   },
   "file_extension": ".py",
   "mimetype": "text/x-python",
   "name": "python",
   "nbconvert_exporter": "python",
   "pygments_lexer": "ipython3",
   "version": "3.6.7"
  }
 },
 "nbformat": 4,
 "nbformat_minor": 2
}
