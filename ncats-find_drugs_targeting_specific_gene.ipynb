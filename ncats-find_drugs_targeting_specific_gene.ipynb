{
 "cells": [
  {
   "cell_type": "markdown",
   "metadata": {},
   "source": [
    "# What *drugs/compounds* target gene products of gene \"coagulation factor II, thrombin\"?"
   ]
  },
  {
   "cell_type": "code",
   "execution_count": 54,
   "metadata": {},
   "outputs": [],
   "source": [
    "!pip install SPARQLWrapper pandas --quiet\n",
    "from SPARQLWrapper import SPARQLWrapper, JSON, XML, CSV, TSV\n",
    "import pandas as pd, io\n",
    "from pandas.io.json import json_normalize\n",
    "from IPython.core.display import display, HTML\n",
    "%matplotlib inline"
   ]
  },
  {
   "cell_type": "markdown",
   "metadata": {},
   "source": [
    "The NCATS Translator [Red team knowledge graph](http://graphdb.dumontierlab.com/repositories/ncats-red-kg) is used to answer the question. It integrates the following datasets:\n",
    "* HGNC: genes\n",
    "* DrugBank: drugs, drug-protein and drug-drug interactions\n",
    "* PrePPI: protein-protein interactions\n",
    "* BioGRID: protein-protein interactions with evidences\n",
    "* WikiPathways: pathways, gene-gene interactions\n",
    "* DATE: link drugs to pathways\n",
    "* GOTE: link proteins to pathways\n",
    "\n",
    "The SPARQL queries used to transform the datasets to the [BioLink model](https://biolink.github.io/biolink-model/docs/) can be found [here](https://github.com/vemonet/data2services-insert/tree/master/insert-biolink)."
   ]
  },
  {
   "cell_type": "code",
   "execution_count": 55,
   "metadata": {},
   "outputs": [],
   "source": [
    "gene = \"coagulation factor II, thrombin\"\n",
    "\n",
    "sparql = SPARQLWrapper(\"http://graphdb.dumontierlab.com/repositories/ncats-red-kg\")\n",
    "query = \"\"\"\n",
    "PREFIX rdfs: <http://www.w3.org/2000/01/rdf-schema#>\n",
    "PREFIX bl: <http://w3id.org/biolink/vocab/>\n",
    "SELECT distinct ?gene ?produceProteinUri ?affectedByDrug ?byRelation ?inInteraction ?inGraph\n",
    "{\n",
    "  ?geneUri a bl:Gene ;\n",
    "    bl:id ?geneId ; \n",
    "    bl:name ?gene ;\n",
    "    bl:has_gene_product ?produceProteinUri .\n",
    "  OPTIONAL { ?geneProductUri bl:name ?produceProtein . }\n",
    "  ?geneProductUri a bl:GeneProduct .\n",
    "  GRAPH ?inGraph {\n",
    "      ?inInteraction ?associationSubject ?geneProductUri ;\n",
    "       ?associationObject ?drugUri ;\n",
    "       bl:relation ?byRelation .\n",
    "   }\n",
    "  ?drugUri a bl:ChemicalSubstance .\n",
    "  OPTIONAL {?drugUri bl:name ?affectedByDrug .}\n",
    "  FILTER regex(str(?gene), \"%s\") . \n",
    "} limit 100\n",
    "\"\"\"\n",
    "\n",
    "sparql.setQuery(query % (gene))\n",
    "sparql.setReturnFormat(JSON)\n",
    "results = sparql.query().convert()\n",
    "# Load JSON in flat pandas dataframe:\n",
    "table = json_normalize(results[\"results\"][\"bindings\"])"
   ]
  },
  {
   "cell_type": "code",
   "execution_count": 56,
   "metadata": {},
   "outputs": [
    {
     "data": {
      "text/html": [
       "<div>\n",
       "<style scoped>\n",
       "    .dataframe tbody tr th:only-of-type {\n",
       "        vertical-align: middle;\n",
       "    }\n",
       "\n",
       "    .dataframe tbody tr th {\n",
       "        vertical-align: top;\n",
       "    }\n",
       "\n",
       "    .dataframe thead th {\n",
       "        text-align: right;\n",
       "    }\n",
       "</style>\n",
       "<table border=\"1\" class=\"dataframe\">\n",
       "  <thead>\n",
       "    <tr style=\"text-align: right;\">\n",
       "      <th></th>\n",
       "      <th>affectedByDrug.type</th>\n",
       "      <th>affectedByDrug.value</th>\n",
       "      <th>byRelation.type</th>\n",
       "      <th>byRelation.value</th>\n",
       "      <th>gene.type</th>\n",
       "      <th>gene.value</th>\n",
       "      <th>inGraph.type</th>\n",
       "      <th>inGraph.value</th>\n",
       "      <th>inInteraction.type</th>\n",
       "      <th>inInteraction.value</th>\n",
       "      <th>produceProteinUri.type</th>\n",
       "      <th>produceProteinUri.value</th>\n",
       "    </tr>\n",
       "  </thead>\n",
       "  <tbody>\n",
       "    <tr>\n",
       "      <th>0</th>\n",
       "      <td>literal</td>\n",
       "      <td>menadione</td>\n",
       "      <td>uri</td>\n",
       "      <td>http://w3id.org/biolink/vocab/interacts_with</td>\n",
       "      <td>literal</td>\n",
       "      <td>coagulation factor II, thrombin</td>\n",
       "      <td>uri</td>\n",
       "      <td>https://w3id.org/data2services/graph/biolink/date</td>\n",
       "      <td>uri</td>\n",
       "      <td>https://w3id.org/data2services/data/protein/in...</td>\n",
       "      <td>uri</td>\n",
       "      <td>http://identifiers.org/uniprot/P00734</td>\n",
       "    </tr>\n",
       "    <tr>\n",
       "      <th>1</th>\n",
       "      <td>literal</td>\n",
       "      <td>menadione</td>\n",
       "      <td>uri</td>\n",
       "      <td>http://w3id.org/biolink/vocab/interacts_with</td>\n",
       "      <td>literal</td>\n",
       "      <td>coagulation factor II, thrombin</td>\n",
       "      <td>uri</td>\n",
       "      <td>https://w3id.org/data2services/graph/biolink/date</td>\n",
       "      <td>uri</td>\n",
       "      <td>https://w3id.org/data2services/data/protein/in...</td>\n",
       "      <td>uri</td>\n",
       "      <td>http://identifiers.org/uniprot/P00734</td>\n",
       "    </tr>\n",
       "    <tr>\n",
       "      <th>2</th>\n",
       "      <td>literal</td>\n",
       "      <td>menadione</td>\n",
       "      <td>uri</td>\n",
       "      <td>http://w3id.org/biolink/vocab/interacts_with</td>\n",
       "      <td>literal</td>\n",
       "      <td>coagulation factor II, thrombin</td>\n",
       "      <td>uri</td>\n",
       "      <td>https://w3id.org/data2services/graph/biolink/date</td>\n",
       "      <td>uri</td>\n",
       "      <td>https://w3id.org/data2services/data/protein/in...</td>\n",
       "      <td>uri</td>\n",
       "      <td>http://identifiers.org/uniprot/P00734</td>\n",
       "    </tr>\n",
       "    <tr>\n",
       "      <th>3</th>\n",
       "      <td>literal</td>\n",
       "      <td>menadione</td>\n",
       "      <td>uri</td>\n",
       "      <td>http://w3id.org/biolink/vocab/interacts_with</td>\n",
       "      <td>literal</td>\n",
       "      <td>coagulation factor II, thrombin</td>\n",
       "      <td>uri</td>\n",
       "      <td>https://w3id.org/data2services/graph/biolink/date</td>\n",
       "      <td>uri</td>\n",
       "      <td>https://w3id.org/data2services/data/protein/in...</td>\n",
       "      <td>uri</td>\n",
       "      <td>http://identifiers.org/uniprot/P00734</td>\n",
       "    </tr>\n",
       "    <tr>\n",
       "      <th>4</th>\n",
       "      <td>literal</td>\n",
       "      <td>Pf</td>\n",
       "      <td>uri</td>\n",
       "      <td>http://w3id.org/biolink/vocab/interacts_with</td>\n",
       "      <td>literal</td>\n",
       "      <td>coagulation factor II, thrombin</td>\n",
       "      <td>uri</td>\n",
       "      <td>https://w3id.org/data2services/graph/biolink/date</td>\n",
       "      <td>uri</td>\n",
       "      <td>https://w3id.org/data2services/data/protein/in...</td>\n",
       "      <td>uri</td>\n",
       "      <td>http://identifiers.org/uniprot/P00734</td>\n",
       "    </tr>\n",
       "  </tbody>\n",
       "</table>\n",
       "</div>"
      ],
      "text/plain": [
       "  affectedByDrug.type affectedByDrug.value byRelation.type  \\\n",
       "0             literal            menadione             uri   \n",
       "1             literal            menadione             uri   \n",
       "2             literal            menadione             uri   \n",
       "3             literal            menadione             uri   \n",
       "4             literal                   Pf             uri   \n",
       "\n",
       "                               byRelation.value gene.type  \\\n",
       "0  http://w3id.org/biolink/vocab/interacts_with   literal   \n",
       "1  http://w3id.org/biolink/vocab/interacts_with   literal   \n",
       "2  http://w3id.org/biolink/vocab/interacts_with   literal   \n",
       "3  http://w3id.org/biolink/vocab/interacts_with   literal   \n",
       "4  http://w3id.org/biolink/vocab/interacts_with   literal   \n",
       "\n",
       "                        gene.value inGraph.type  \\\n",
       "0  coagulation factor II, thrombin          uri   \n",
       "1  coagulation factor II, thrombin          uri   \n",
       "2  coagulation factor II, thrombin          uri   \n",
       "3  coagulation factor II, thrombin          uri   \n",
       "4  coagulation factor II, thrombin          uri   \n",
       "\n",
       "                                       inGraph.value inInteraction.type  \\\n",
       "0  https://w3id.org/data2services/graph/biolink/date                uri   \n",
       "1  https://w3id.org/data2services/graph/biolink/date                uri   \n",
       "2  https://w3id.org/data2services/graph/biolink/date                uri   \n",
       "3  https://w3id.org/data2services/graph/biolink/date                uri   \n",
       "4  https://w3id.org/data2services/graph/biolink/date                uri   \n",
       "\n",
       "                                 inInteraction.value produceProteinUri.type  \\\n",
       "0  https://w3id.org/data2services/data/protein/in...                    uri   \n",
       "1  https://w3id.org/data2services/data/protein/in...                    uri   \n",
       "2  https://w3id.org/data2services/data/protein/in...                    uri   \n",
       "3  https://w3id.org/data2services/data/protein/in...                    uri   \n",
       "4  https://w3id.org/data2services/data/protein/in...                    uri   \n",
       "\n",
       "                 produceProteinUri.value  \n",
       "0  http://identifiers.org/uniprot/P00734  \n",
       "1  http://identifiers.org/uniprot/P00734  \n",
       "2  http://identifiers.org/uniprot/P00734  \n",
       "3  http://identifiers.org/uniprot/P00734  \n",
       "4  http://identifiers.org/uniprot/P00734  "
      ]
     },
     "execution_count": 56,
     "metadata": {},
     "output_type": "execute_result"
    }
   ],
   "source": [
    "table.head()"
   ]
  },
  {
   "cell_type": "code",
   "execution_count": null,
   "metadata": {},
   "outputs": [],
   "source": [
    "affectedbydrug = table.groupby('affectedByDrug.value').count()['affectedByDrug.type'].reset_index()"
   ]
  },
  {
   "cell_type": "code",
   "execution_count": 44,
   "metadata": {},
   "outputs": [],
   "source": [
    "import matplotlib.pyplot as plt"
   ]
  },
  {
   "cell_type": "code",
   "execution_count": 46,
   "metadata": {},
   "outputs": [
    {
     "data": {
      "text/plain": [
       "[<matplotlib.lines.Line2D at 0x7f21280a17f0>]"
      ]
     },
     "execution_count": 46,
     "metadata": {},
     "output_type": "execute_result"
    },
    {
     "data": {
      "image/png": "[encoded data removed]",
      "text/plain": [
       "<Figure size 432x288 with 1 Axes>"
      ]
     },
     "metadata": {
      "needs_background": "light"
     },
     "output_type": "display_data"
    }
   ],
   "source": [
    "plt.plot(affectedbydrug['affectedByDrug.value'], affectedbydrug['affectedByDrug.type'])"
   ]
  },
  {
   "cell_type": "code",
   "execution_count": null,
   "metadata": {},
   "outputs": [],
   "source": []
  }
 ],
 "metadata": {
  "kernelspec": {
   "display_name": "Python 3",
   "language": "python",
   "name": "python3"
  },
  "language_info": {
   "codemirror_mode": {
    "name": "ipython",
    "version": 3
   },
   "file_extension": ".py",
   "mimetype": "text/x-python",
   "name": "python",
   "nbconvert_exporter": "python",
   "pygments_lexer": "ipython3",
   "version": "3.6.7"
  }
 },
 "nbformat": 4,
 "nbformat_minor": 2
}
