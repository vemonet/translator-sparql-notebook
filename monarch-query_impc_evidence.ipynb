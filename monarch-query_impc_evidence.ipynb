{
 "cells": [
  {
   "cell_type": "markdown",
   "metadata": {},
   "source": [
    "This is a notebook demos how to query associations from IMPC include evidence and provenance modeled with SEPIO\n",
    "\n",
    "To setup:\n",
    "\n",
    "pip install dipper jupyter ipython"
   ]
  },
  {
   "cell_type": "code",
   "execution_count": 17,
   "metadata": {},
   "outputs": [
    {
     "data": {
      "text/plain": [
       "<Graph identifier=https://data.monarchinitiative.org/ttl/impc.ttl (<class 'rdflib.graph.Graph'>)>"
      ]
     },
     "execution_count": 17,
     "metadata": {},
     "output_type": "execute_result"
    }
   ],
   "source": [
    "from dipper.graph.RDFGraph import RDFGraph\n",
    "\n",
    "impc_graph = \"https://data.monarchinitiative.org/ttl/impc.ttl\"\n",
    "\n",
    "graph = RDFGraph()\n",
    "\n",
    "# Import the rdf file, this takes a minute or two\n",
    "graph.parse(impc_graph, format='turtle')"
   ]
  },
  {
   "cell_type": "code",
   "execution_count": 18,
   "metadata": {},
   "outputs": [
    {
     "data": {
      "text/plain": [
       "19843"
      ]
     },
     "execution_count": 18,
     "metadata": {},
     "output_type": "execute_result"
    }
   ],
   "source": [
    "# How many subjects have a has_phenotype relation\n",
    "\n",
    "has_phenotype = graph._getNode(\"RO:0002200\")\n",
    "len(list(graph.subjects(predicate=has_phenotype)))"
   ]
  },
  {
   "cell_type": "code",
   "execution_count": 19,
   "metadata": {},
   "outputs": [
    {
     "data": {
      "text/plain": [
       "19843"
      ]
     },
     "execution_count": 19,
     "metadata": {},
     "output_type": "execute_result"
    }
   ],
   "source": [
    "# How many oban associations are in the graph\n",
    "from rdflib.namespace import RDF\n",
    "\n",
    "association = graph._getNode(\"OBAN:association\")\n",
    "len(list(graph.subjects(RDF.type, association)))"
   ]
  },
  {
   "cell_type": "code",
   "execution_count": 20,
   "metadata": {},
   "outputs": [
    {
     "data": {
      "text/plain": [
       "23518"
      ]
     },
     "execution_count": 20,
     "metadata": {},
     "output_type": "execute_result"
    }
   ],
   "source": [
    "# How many lines of mutant phenotype evidence\n",
    "\n",
    "mut_pheno_evidence = graph._getNode(\"ECO:0000015\")\n",
    "len(list(graph.subjects(RDF.type, mut_pheno_evidence)))"
   ]
  },
  {
   "cell_type": "markdown",
   "metadata": {},
   "source": [
    "Given a list of genotype and phenotype labels, create a subgraph containing the 'has phenotype' relation, and all evidence.\n"
   ]
  },
  {
   "cell_type": "code",
   "execution_count": 84,
   "metadata": {},
   "outputs": [
    {
     "name": "stdout",
     "output_type": "stream",
     "text": [
      "@prefix OBAN: <http://purl.org/oban/> .\n",
      "@prefix OBO: <http://purl.obolibrary.org/obo/> .\n",
      "@prefix rdf: <http://www.w3.org/1999/02/22-rdf-syntax-ns#> .\n",
      "@prefix rdfs: <http://www.w3.org/2000/01/rdf-schema#> .\n",
      "@prefix xml: <http://www.w3.org/XML/1998/namespace> .\n",
      "@prefix xsd: <http://www.w3.org/2001/XMLSchema#> .\n",
      "\n",
      "<https://monarchinitiative.org/MONARCH_64baf3a9fd766d9b45b8706afc8f6e43b8a007d0> a OBAN:association ;\n",
      "    OBO:RO_0002558 OBO:ECO_0000015 ;\n",
      "    OBO:SEPIO_0000007 <https://monarchinitiative.org/.well-known/genid/4c55b8c702eaf8199402e1fca28aab43664e2528>,\n",
      "        <https://monarchinitiative.org/.well-known/genid/b8a67608e0359789f5a49f8cf43f2e427d80926a> ;\n",
      "    OBO:SEPIO_0000015 <https://monarchinitiative.org/.well-known/genid/e0339fd4e780575854a9b15a9f53440b50aa9aa7> ;\n",
      "    OBAN:association_has_object OBO:MP_0001399 ;\n",
      "    OBAN:association_has_predicate OBO:RO_0002200 ;\n",
      "    OBAN:association_has_subject <https://monarchinitiative.org/MONARCH_20c701bb7b16f52735288b5bf85023bd71669aca> .\n",
      "\n",
      "<http://www.mousephenotype.org/> a <http://xmlns.com/foaf/0.1/organization> ;\n",
      "    rdfs:label \"International Mouse Phenotyping Consortium\" .\n",
      "\n",
      "<https://monarchinitiative.org/.well-known/genid/04e4445c9ae9486fb28c44e40ff01f877e16884a> OBO:RO_0002353 <https://monarchinitiative.org/.well-known/genid/f9abfb75efe33f00ddbdc60be74c77d32e4f2cb1> .\n",
      "\n",
      "<https://monarchinitiative.org/.well-known/genid/370c861b680c514c26890e9811e88f230b25f7ad> OBO:RO_0002353 <https://monarchinitiative.org/.well-known/genid/d81d7bea010161bf3af538ddfaa95eca27bef5c1> .\n",
      "\n",
      "<https://monarchinitiative.org/.well-known/genid/52b640304090c1033aca385fd3e90dbdc18ca0cb> OBO:RO_0002353 <https://monarchinitiative.org/.well-known/genid/f9abfb75efe33f00ddbdc60be74c77d32e4f2cb1> .\n",
      "\n",
      "<https://monarchinitiative.org/.well-known/genid/5f238f0d997802a81db5d41410c9382b3f9d7bff> OBO:RO_0002353 <https://monarchinitiative.org/.well-known/genid/f9abfb75efe33f00ddbdc60be74c77d32e4f2cb1> .\n",
      "\n",
      "<https://monarchinitiative.org/.well-known/genid/dce47fd7382541f3202224331d338fb62a8564f1> OBO:RO_0002353 <https://monarchinitiative.org/.well-known/genid/d81d7bea010161bf3af538ddfaa95eca27bef5c1> .\n",
      "\n",
      "<https://monarchinitiative.org/.well-known/genid/e0339fd4e780575854a9b15a9f53440b50aa9aa7> a OBO:SEPIO_0000001 ;\n",
      "    OBO:SEPIO_0000018 <http://www.mousephenotype.org/> ;\n",
      "    OBO:SEPIO_0000111 <https://monarchinitiative.org/.well-known/genid/4c55b8c702eaf8199402e1fca28aab43664e2528>,\n",
      "        <https://monarchinitiative.org/.well-known/genid/b8a67608e0359789f5a49f8cf43f2e427d80926a> .\n",
      "\n",
      "<https://monarchinitiative.org/.well-known/genid/e65e5afb7c929931d707b90944c49e8a5b2ef2f6> OBO:RO_0002353 <https://monarchinitiative.org/.well-known/genid/d81d7bea010161bf3af538ddfaa95eca27bef5c1> .\n",
      "\n",
      "<https://monarchinitiative.org/MONARCH_20c701bb7b16f52735288b5bf85023bd71669aca> rdfs:label \"Ankrd13a<Gt(RRH308)Byg>/Ankrd13a<Gt(RRH308)Byg> [CBA/Ca;129P2-WTSI-Ankrd13aAnkrd13a<Gt(RRH308)Byg>] (female)\" ;\n",
      "    OBO:RO_0002200 OBO:MP_0001399 .\n",
      "\n",
      "<https://www.mousephenotype.org/impress/parameterontologies/330/10> a <http://www.w3.org/2002/07/owl#NamedIndividual> ;\n",
      "    rdfs:label \"Whole arena resting time (Open-field)\" .\n",
      "\n",
      "<https://www.mousephenotype.org/impress/parameterontologies/359/11> a <http://www.w3.org/2002/07/owl#NamedIndividual> ;\n",
      "    rdfs:label \"Locomotor activity (Modified SHIRPA)\" .\n",
      "\n",
      "<https://www.mousephenotype.org/impress/protocol/10/2> a <http://www.w3.org/2002/07/owl#NamedIndividual> ;\n",
      "    rdfs:label \"Open-field\" .\n",
      "\n",
      "<https://www.mousephenotype.org/impress/protocol/11/2> a <http://www.w3.org/2002/07/owl#NamedIndividual> ;\n",
      "    rdfs:label \"Modified SHIRPA\" .\n",
      "\n",
      "<http://www.eumodic.org/> a <http://vivoweb.org/ontology/core#Project> ;\n",
      "    rdfs:label \"European Mouse Disease Clinic\" .\n",
      "\n",
      "<http://www.sanger.ac.uk/> a <http://xmlns.com/foaf/0.1/organization> ;\n",
      "    rdfs:label \"WTSI\" .\n",
      "\n",
      "<https://monarchinitiative.org/.well-known/genid/4c55b8c702eaf8199402e1fca28aab43664e2528> a OBO:ECO_0000015 ;\n",
      "    OBO:SEPIO_0000084 <https://monarchinitiative.org/.well-known/genid/04e4445c9ae9486fb28c44e40ff01f877e16884a>,\n",
      "        <https://monarchinitiative.org/.well-known/genid/52b640304090c1033aca385fd3e90dbdc18ca0cb>,\n",
      "        <https://monarchinitiative.org/.well-known/genid/5f238f0d997802a81db5d41410c9382b3f9d7bff> ;\n",
      "    OBO:SEPIO_0000085 <https://monarchinitiative.org/.well-known/genid/f9abfb75efe33f00ddbdc60be74c77d32e4f2cb1> .\n",
      "\n",
      "<https://monarchinitiative.org/.well-known/genid/b8a67608e0359789f5a49f8cf43f2e427d80926a> a OBO:ECO_0000015 ;\n",
      "    OBO:SEPIO_0000084 <https://monarchinitiative.org/.well-known/genid/370c861b680c514c26890e9811e88f230b25f7ad>,\n",
      "        <https://monarchinitiative.org/.well-known/genid/dce47fd7382541f3202224331d338fb62a8564f1>,\n",
      "        <https://monarchinitiative.org/.well-known/genid/e65e5afb7c929931d707b90944c49e8a5b2ef2f6> ;\n",
      "    OBO:SEPIO_0000085 <https://monarchinitiative.org/.well-known/genid/d81d7bea010161bf3af538ddfaa95eca27bef5c1> .\n",
      "\n",
      "<https://www.mousephenotype.org/impress/procedures/2> a <http://www.w3.org/2002/07/owl#NamedIndividual> ;\n",
      "    rdfs:label \"EUMODIC Pipeline 2\" .\n",
      "\n",
      "<https://monarchinitiative.org/.well-known/genid/d81d7bea010161bf3af538ddfaa95eca27bef5c1> a OBO:OBI_0000471 ;\n",
      "    OBO:BFO_0000050 <http://www.eumodic.org/>,\n",
      "        <https://www.mousephenotype.org/impress/procedures/2> ;\n",
      "    OBO:BFO_0000051 OBO:STATO_0000372,\n",
      "        <https://www.mousephenotype.org/impress/protocol/10/2> ;\n",
      "    OBO:SEPIO_0000017 <http://www.sanger.ac.uk/> ;\n",
      "    OBO:SEPIO_0000114 <https://www.mousephenotype.org/impress/parameterontologies/330/10> .\n",
      "\n",
      "<https://monarchinitiative.org/.well-known/genid/f9abfb75efe33f00ddbdc60be74c77d32e4f2cb1> a OBO:OBI_0000471 ;\n",
      "    OBO:BFO_0000050 <http://www.eumodic.org/>,\n",
      "        <https://www.mousephenotype.org/impress/procedures/2> ;\n",
      "    OBO:BFO_0000051 OBO:STATO_0000372,\n",
      "        <https://www.mousephenotype.org/impress/protocol/11/2> ;\n",
      "    OBO:SEPIO_0000017 <http://www.sanger.ac.uk/> ;\n",
      "    OBO:SEPIO_0000114 <https://www.mousephenotype.org/impress/parameterontologies/359/11> .\n",
      "\n",
      "\n"
     ]
    }
   ],
   "source": [
    "# Bind all namespaces in curie_map for sparql\n",
    "graph.bind_all_namespaces()\n",
    "\n",
    "genotype = \"Ankrd13a<Gt(RRH308)Byg>/Ankrd13a<Gt(RRH308)Byg> [CBA/Ca;129P2-WTSI-Ankrd13aAnkrd13a<Gt(RRH308)Byg>] (female)\"\n",
    "phenotype = \"MP:0001399\"\n",
    "\n",
    "query = \"\"\"\n",
    "    ?genotype rdfs:label '{0}' .\n",
    "    ?genotype RO:0002200 {1} .\n",
    "    \n",
    "    ?assoc a ?assoc_type ;\n",
    "        OBAN:association_has_object {1} ;\n",
    "        OBAN:association_has_predicate RO:0002200 ;\n",
    "        OBAN:association_has_subject ?genotype ;\n",
    "        RO:0002558 ECO:0000015 ;\n",
    "        SEPIO:0000007 ?evidenceline ;\n",
    "        SEPIO:0000015 ?assertion .\n",
    "    \n",
    "    ?assertion SEPIO:0000018 ?creator ;\n",
    "        SEPIO:0000111 ?evidenceline  .\n",
    "        \n",
    "    ?assertion a ?assertion_type .\n",
    "        \n",
    "    ?creator ?creator_predicates ?creator_objects .\n",
    "    \n",
    "    ?evidenceline SEPIO:0000084 ?measure1 ;\n",
    "        SEPIO:0000085 ?study  .\n",
    "        \n",
    "    ?evidenceline a ?ev_type .\n",
    "        \n",
    "    ?measure1 ?measure_predicates ?measure_objects .\n",
    "    ?study ?study_predicates ?study_objects .\n",
    "    \n",
    "    ?study_objects ?stud_p ?stud_o .\n",
    "    ?measure_objects ?meas_p ?meas_o .\n",
    "    \n",
    "\"\"\".format(genotype, phenotype)\n",
    "\n",
    "sparql_query = \"\"\"\n",
    "    CONSTRUCT {{ \n",
    "        {0}\n",
    "    }}\n",
    "    WHERE {{\n",
    "        {0}\n",
    "    }}\n",
    "\"\"\".format(query)\n",
    "\n",
    "sparql_output = graph.query(sparql_query)\n",
    "\n",
    "subGraph = RDFGraph()\n",
    "\n",
    "for triple in sparql_output:\n",
    "    subGraph.add(triple)\n",
    "\n",
    "subGraph.bind(\"OBAN\", \"http://purl.org/oban/\")\n",
    "\n",
    "print(subGraph.serialize(format='turtle').decode(\"utf-8\"))"
   ]
  },
  {
   "cell_type": "code",
   "execution_count": 91,
   "metadata": {},
   "outputs": [],
   "source": [
    "# Turn this into a function\n",
    "\n",
    "template = \"\"\"\n",
    "    ?genotype rdfs:label '{0}' .\n",
    "    ?genotype RO:0002200 {1} .\n",
    "    \n",
    "    ?assoc a ?assoc_type ;\n",
    "        OBAN:association_has_object {1} ;\n",
    "        OBAN:association_has_predicate RO:0002200 ;\n",
    "        OBAN:association_has_subject ?genotype ;\n",
    "        RO:0002558 ECO:0000015 ;\n",
    "        SEPIO:0000007 ?evidenceline ;\n",
    "        SEPIO:0000015 ?assertion .\n",
    "    \n",
    "    ?assertion SEPIO:0000018 ?creator ;\n",
    "        SEPIO:0000111 ?evidenceline  .\n",
    "        \n",
    "    ?assertion a ?assertion_type .\n",
    "        \n",
    "    ?creator ?creator_predicates ?creator_objects .\n",
    "    \n",
    "    ?evidenceline SEPIO:0000084 ?measure1 ;\n",
    "        SEPIO:0000085 ?study  .\n",
    "        \n",
    "    ?evidenceline a ?ev_type .\n",
    "        \n",
    "    ?measure1 ?measure_predicates ?measure_objects .\n",
    "    ?study ?study_predicates ?study_objects .\n",
    "    \n",
    "    ?study_objects ?stud_p ?stud_o .\n",
    "    ?measure_objects ?meas_p ?meas_o .\n",
    "\"\"\"\n",
    "\n",
    "subGraph = RDFGraph()\n",
    "subGraph.bind(\"OBAN\", \"http://purl.org/oban/\")\n",
    "\n",
    "def create_subgraph(query, graph, new_graph):\n",
    "    sparql_query = \"\"\"\n",
    "        CONSTRUCT {{ \n",
    "            {0}\n",
    "        }}\n",
    "        WHERE {{\n",
    "            {0}\n",
    "        }}\n",
    "        \"\"\".format(query)\n",
    "\n",
    "    sparql_output = graph.query(sparql_query)\n",
    "\n",
    "    for triple in sparql_output:\n",
    "        new_graph.add(triple)\n",
    "        \n",
    "g2p_list = [\n",
    "    [\"Ankrd13a<Gt(RRH308)Byg>/Ankrd13a<Gt(RRH308)Byg> [CBA/Ca;129P2-WTSI-Ankrd13aAnkrd13a<Gt(RRH308)Byg>] (female)\",\n",
    "     \"MP:0001399\"\n",
    "    ],\n",
    "    [\"Ankrd13a<Gt(RRH308)Byg>/Ankrd13a<Gt(RRH308)Byg> [CBA/Ca;129P2-WTSI-Ankrd13aAnkrd13a<Gt(RRH308)Byg>] (male)\",\n",
    "     \"MP:0001399\"\n",
    "    ],\n",
    "    [\"Mapkap1<tm1b(EUCOMM)Wtsi>/Mapkap1<+> [C57BL/6N-BCM-Mapkap1 EPD0609_2_F05-B] (female)\",\n",
    "     \"MP:0002753\"\n",
    "    ],\n",
    "    [\"Hbs1l<tm1a(KOMP)Wtsi>/Hbs1l<tm1a(KOMP)Wtsi> [C57BL/6N-WTSI-METC] (female)\",\n",
    "     \"MP:0005292\"\n",
    "    ],\n",
    "    [\"Gnao1<tm1b(EUCOMM)Hmgu>/Gnao1<+> [C57BL/6NTac-MRC Harwell-H-GNAO1-G05-TM1B] (male)\",\n",
    "     \"MP:0001399\"\n",
    "    ]\n",
    "]\n",
    "\n",
    "for g2p in g2p_list:\n",
    "    query = template.format(g2p[0], g2p[1])\n",
    "    create_subgraph(query, graph, subGraph)\n",
    "\n",
    "subGraph.serialize(\"/home/kshefchek/impc_test.ttl\", format=\"ttl\")\n"
   ]
  },
  {
   "cell_type": "code",
   "execution_count": null,
   "metadata": {
    "collapsed": true
   },
   "outputs": [],
   "source": []
  }
 ],
 "metadata": {
  "kernelspec": {
   "display_name": "Python 3",
   "language": "python",
   "name": "python3"
  },
  "language_info": {
   "codemirror_mode": {
    "name": "ipython",
    "version": 3
   },
   "file_extension": ".py",
   "mimetype": "text/x-python",
   "name": "python",
   "nbconvert_exporter": "python",
   "pygments_lexer": "ipython3",
   "version": "3.5.2"
  }
 },
 "nbformat": 4,
 "nbformat_minor": 2
}
